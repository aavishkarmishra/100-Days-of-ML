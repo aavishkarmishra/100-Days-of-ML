{
 "cells": [
  {
   "cell_type": "markdown",
   "metadata": {
    "colab_type": "text",
    "id": "iQjHqsmTAVLU"
   },
   "source": [
    "Improved MNIST to 99.8% accuracy or more using only a single convolutional layer and a single MaxPooling 2D.\n"
   ]
  },
  {
   "cell_type": "code",
   "execution_count": 1,
   "metadata": {},
   "outputs": [],
   "source": [
    "import tensorflow as tf\n",
    "from os import path, getcwd, chdir\n",
    "\n",
    "# DO NOT CHANGE THE LINE BELOW. If you are developing in a local\n",
    "# environment, then grab mnist.npz from the Coursera Jupyter Notebook\n",
    "# and place it inside a local folder and edit the path to that location\n",
    "path = f\"{getcwd()}/../tmp2/mnist.npz\""
   ]
  },
  {
   "cell_type": "code",
   "execution_count": 2,
   "metadata": {},
   "outputs": [],
   "source": [
    "config = tf.ConfigProto()\n",
    "config.gpu_options.allow_growth = True\n",
    "sess = tf.Session(config=config)"
   ]
  },
  {
   "cell_type": "code",
   "execution_count": 3,
   "metadata": {},
   "outputs": [],
   "source": [
    "# GRADED FUNCTION: train_mnist_conv\n",
    "def train_mnist_conv():\n",
    "    # Please write your code only where you are indicated.\n",
    "    # please do not remove model fitting inline comments.\n",
    "\n",
    "    class myCallback(tf.keras.callbacks.Callback):\n",
    "          def on_epoch_end(self, epoch, logs={}):\n",
    "                if(logs.get('acc')>0.998):\n",
    "                    print(\"\\nReached 99.8% accuracy so cancelling training!\")\n",
    "                    self.model.stop_training = True\n",
    "\n",
    "\n",
    "    mnist = tf.keras.datasets.mnist\n",
    "    (training_images, training_labels), (test_images, test_labels) = mnist.load_data()\n",
    "    training_images=training_images.reshape(60000, 28, 28, 1)\n",
    "    training_images=training_images / 255.0\n",
    "    test_images = test_images.reshape(10000, 28, 28, 1)\n",
    "    test_images=test_images/255.0\n",
    "\n",
    "    callbacks = myCallback()\n",
    "\n",
    "    model = tf.keras.models.Sequential([\n",
    "        tf.keras.layers.Conv2D(16, (3,3), activation='relu', input_shape=(28, 28, 1)),\n",
    "        tf.keras.layers.MaxPooling2D(2, 2),\n",
    "        tf.keras.layers.Conv2D(32, (3,3), activation='relu'),\n",
    "        tf.keras.layers.MaxPooling2D(2, 2),\n",
    "        tf.keras.layers.Flatten(),\n",
    "        tf.keras.layers.Dense(128, activation='relu'),\n",
    "        tf.keras.layers.Dense(10, activation='softmax')\n",
    "    ])\n",
    "\n",
    "    model.compile(optimizer='adam', loss='sparse_categorical_crossentropy', metrics=['accuracy'])\n",
    "    # model fitting\n",
    "    history = model.fit(\n",
    "        training_images, training_labels, epochs=20, callbacks=[callbacks]\n",
    "    )\n",
    "    # model fitting\n",
    "    return history.epoch, history.history['acc'][-1]\n",
    "\n"
   ]
  },
  {
   "cell_type": "code",
   "execution_count": 4,
   "metadata": {},
   "outputs": [
    {
     "name": "stderr",
     "output_type": "stream",
     "text": [
      "WARNING: Logging before flag parsing goes to stderr.\n",
      "W1020 06:55:07.330280 140075759589184 deprecation.py:506] From /usr/local/lib/python3.6/dist-packages/tensorflow/python/ops/init_ops.py:1251: calling VarianceScaling.__init__ (from tensorflow.python.ops.init_ops) with dtype is deprecated and will be removed in a future version.\n",
      "Instructions for updating:\n",
      "Call initializer instance with the dtype argument instead of passing it to the constructor\n"
     ]
    },
    {
     "name": "stdout",
     "output_type": "stream",
     "text": [
      "Epoch 1/20\n",
      "60000/60000 [==============================] - 16s 260us/sample - loss: 0.1465 - acc: 0.9558\n",
      "Epoch 2/20\n",
      "60000/60000 [==============================] - 13s 210us/sample - loss: 0.0489 - acc: 0.9847\n",
      "Epoch 3/20\n",
      "60000/60000 [==============================] - 12s 207us/sample - loss: 0.0328 - acc: 0.9896\n",
      "Epoch 4/20\n",
      "60000/60000 [==============================] - 12s 207us/sample - loss: 0.0252 - acc: 0.9918\n",
      "Epoch 5/20\n",
      "60000/60000 [==============================] - 12s 204us/sample - loss: 0.0186 - acc: 0.9940\n",
      "Epoch 6/20\n",
      "60000/60000 [==============================] - 12s 203us/sample - loss: 0.0143 - acc: 0.9956\n",
      "Epoch 7/20\n",
      "60000/60000 [==============================] - 12s 208us/sample - loss: 0.0117 - acc: 0.9962\n",
      "Epoch 8/20\n",
      "60000/60000 [==============================] - 12s 208us/sample - loss: 0.0103 - acc: 0.9966\n",
      "Epoch 9/20\n",
      "60000/60000 [==============================] - 12s 208us/sample - loss: 0.0074 - acc: 0.9975\n",
      "Epoch 10/20\n",
      "60000/60000 [==============================] - 13s 212us/sample - loss: 0.0076 - acc: 0.9975\n",
      "Epoch 11/20\n",
      "60000/60000 [==============================] - 13s 212us/sample - loss: 0.0060 - acc: 0.9979\n",
      "Epoch 12/20\n",
      "60000/60000 [==============================] - 12s 208us/sample - loss: 0.0066 - acc: 0.9978\n",
      "Epoch 13/20\n",
      "59904/60000 [============================>.] - ETA: 0s - loss: 0.0052 - acc: 0.9982\n",
      "Reached 99.8% accuracy so cancelling training!\n",
      "60000/60000 [==============================] - 13s 211us/sample - loss: 0.0052 - acc: 0.9982\n"
     ]
    }
   ],
   "source": [
    "_, _ = train_mnist_conv()"
   ]
  }
 ],
 "metadata": {
  "coursera": {
   "course_slug": "introduction-tensorflow",
   "graded_item_id": "ml06H",
   "launcher_item_id": "hQF8A"
  },
  "kernelspec": {
   "display_name": "Python 3",
   "language": "python",
   "name": "python3"
  },
  "language_info": {
   "codemirror_mode": {
    "name": "ipython",
    "version": 3
   },
   "file_extension": ".py",
   "mimetype": "text/x-python",
   "name": "python",
   "nbconvert_exporter": "python",
   "pygments_lexer": "ipython3",
   "version": "3.6.8"
  }
 },
 "nbformat": 4,
 "nbformat_minor": 1
}