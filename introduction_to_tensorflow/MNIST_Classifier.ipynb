{
 "cells": [
  {
   "cell_type": "markdown",
   "metadata": {
    "colab_type": "text",
    "id": "tOoyQ70H00_s"
   },
   "source": [
    "MNIST classifier that trains to 99% accuracy or above, and does it without a fixed number of epochs -- i.e.  stop training once you reach that level of accuracy.\n"
   ]
  },
  {
   "cell_type": "code",
   "execution_count": 3,
   "metadata": {},
   "outputs": [],
   "source": [
    "import tensorflow as tf\n",
    "from os import path, getcwd, chdir\n",
    "\n",
    "# DO NOT CHANGE THE LINE BELOW. If you are developing in a local\n",
    "# environment, then grab mnist.npz from the Coursera Jupyter Notebook\n",
    "# and place it inside a local folder and edit the path to that location\n",
    "path = f\"{getcwd()}/../tmp2/mnist.npz\""
   ]
  },
  {
   "cell_type": "code",
   "execution_count": 17,
   "metadata": {
    "colab": {},
    "colab_type": "code",
    "id": "9rvXQGAA0ssC"
   },
   "outputs": [],
   "source": [
    "# GRADED FUNCTION: train_mnist\n",
    "def train_mnist():\n",
    "    # Please write your code only where you are indicated.\n",
    "    # please do not remove # model fitting inline comments.\n",
    "\n",
    "    class myCallback(tf.keras.callbacks.Callback):\n",
    "          def on_epoch_end(self, epoch, logs={}):\n",
    "                if(logs.get('acc')>0.99):\n",
    "                    print(\"\\nReached 99% accuracy so cancelling training!\")\n",
    "                    self.model.stop_training = True\n",
    "\n",
    "\n",
    "    mnist = tf.keras.datasets.mnist\n",
    "\n",
    "    (x_train, y_train),(x_test, y_test) = mnist.load_data(path=path)\n",
    "    \n",
    "    x_train, x_test = x_train / 255.0, x_test / 255.0\n",
    "\n",
    "    callbacks = myCallback()\n",
    "    # YOUR CODE SHOULD START HERE\n",
    "\n",
    "    # YOUR CODE SHOULD END HERE\n",
    "    model = tf.keras.models.Sequential([\n",
    "        tf.keras.layers.Flatten(input_shape=(28,28)),\n",
    "        tf.keras.layers.Dense(1024,activation=tf.nn.relu),\n",
    "        tf.keras.layers.Dense(10,activation=tf.nn.softmax)\n",
    "    ])\n",
    "\n",
    "    model.compile(optimizer='adam',\n",
    "                  loss='sparse_categorical_crossentropy',\n",
    "                  metrics=['accuracy'])\n",
    "    \n",
    "    # model fitting\n",
    "    history = model.fit(\n",
    "        x_train,y_train,epochs=10,callbacks=[callbacks]\n",
    "    )\n",
    "    # model fitting\n",
    "    return history.epoch, history.history['acc'][-1]"
   ]
  },
  {
   "cell_type": "code",
   "execution_count": 18,
   "metadata": {
    "colab": {},
    "colab_type": "code",
    "id": "9rvXQGAA0ssC"
   },
   "outputs": [
    {
     "name": "stdout",
     "output_type": "stream",
     "text": [
      "Epoch 1/10\n",
      "60000/60000 [==============================] - 10s 166us/sample - loss: 0.1836 - acc: 0.9450\n",
      "Epoch 2/10\n",
      "60000/60000 [==============================] - 10s 163us/sample - loss: 0.0735 - acc: 0.9775\n",
      "Epoch 3/10\n",
      "60000/60000 [==============================] - 10s 160us/sample - loss: 0.0480 - acc: 0.9846\n",
      "Epoch 4/10\n",
      "60000/60000 [==============================] - 9s 157us/sample - loss: 0.0353 - acc: 0.9885\n",
      "Epoch 5/10\n",
      "59392/60000 [============================>.] - ETA: 0s - loss: 0.0265 - acc: 0.9913\n",
      "Reached 99% accuracy so cancelling training!\n",
      "60000/60000 [==============================] - 9s 157us/sample - loss: 0.0264 - acc: 0.9913\n"
     ]
    },
    {
     "data": {
      "text/plain": [
       "([0, 1, 2, 3, 4], 0.99126667)"
      ]
     },
     "execution_count": 18,
     "metadata": {},
     "output_type": "execute_result"
    }
   ],
   "source": [
    "train_mnist()"
   ]
  }
 ],
 "metadata": {
  "coursera": {
   "course_slug": "introduction-tensorflow",
   "graded_item_id": "d6dew",
   "launcher_item_id": "FExZ4"
  },
  "kernelspec": {
   "display_name": "Python 3",
   "language": "python",
   "name": "python3"
  },
  "language_info": {
   "codemirror_mode": {
    "name": "ipython",
    "version": 3
   },
   "file_extension": ".py",
   "mimetype": "text/x-python",
   "name": "python",
   "nbconvert_exporter": "python",
   "pygments_lexer": "ipython3",
   "version": "3.6.8"
  }
 },
 "nbformat": 4,
 "nbformat_minor": 1
}